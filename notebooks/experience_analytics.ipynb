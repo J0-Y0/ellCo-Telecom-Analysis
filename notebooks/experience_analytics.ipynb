{
 "cells": [
  {
   "cell_type": "markdown",
   "metadata": {},
   "source": [
    "# Experience Analytics"
   ]
  },
  {
   "cell_type": "code",
   "execution_count": 1,
   "metadata": {},
   "outputs": [
    {
     "name": "stdout",
     "output_type": "stream",
     "text": [
      "DB connection engine created successfully.\n"
     ]
    }
   ],
   "source": [
    "import os\n",
    "\n",
    "os.chdir(\"..\")  # set the working directory one level up\n",
    "from scripts.db_connection import DbConnection\n",
    "from scripts.analyzer import Analyzer\n",
    "from scripts.graph import Graph\n",
    "\n",
    "db_connection = DbConnection()\n",
    "analyzer = Analyzer()\n",
    "graph = Graph()"
   ]
  },
  {
   "cell_type": "markdown",
   "metadata": {},
   "source": [
    "## load the data "
   ]
  },
  {
   "cell_type": "code",
   "execution_count": 2,
   "metadata": {},
   "outputs": [],
   "source": [
    "engin = db_connection.get_engine()\n",
    "query = db_connection.select_all_query()\n",
    "data = analyzer.load_data(query, engin)"
   ]
  },
  {
   "cell_type": "markdown",
   "metadata": {},
   "source": [
    "## Data cleaning "
   ]
  },
  {
   "cell_type": "code",
   "execution_count": 3,
   "metadata": {},
   "outputs": [],
   "source": [
    "cleaned_data = analyzer.clean_customer_experience_data(data)"
   ]
  },
  {
   "cell_type": "markdown",
   "metadata": {},
   "source": [
    "## Compute & list 10 of the top, bottom, and most frequent:"
   ]
  },
  {
   "cell_type": "code",
   "execution_count": 4,
   "metadata": {},
   "outputs": [
    {
     "data": {
      "text/plain": [
       "{'TCP Retransmission': {'Top 10': 47144    3.687675e+08\n",
       "  58387    3.684462e+08\n",
       "  59734    3.661276e+08\n",
       "  96372    3.638227e+08\n",
       "  22440    3.622126e+08\n",
       "  23388    3.592816e+08\n",
       "  31320    3.556349e+08\n",
       "  59038    3.532075e+08\n",
       "  68197    3.516247e+08\n",
       "  65059    3.453570e+08\n",
       "  Name: TCP Retransmission, dtype: float64,\n",
       "  'Bottom 10': 23472      97.0\n",
       "  6359      128.0\n",
       "  96977     129.0\n",
       "  13546     134.0\n",
       "  2177      143.0\n",
       "  25863     176.0\n",
       "  102198    176.0\n",
       "  105775    177.0\n",
       "  78100     179.0\n",
       "  89395     182.0\n",
       "  Name: TCP Retransmission, dtype: float64,\n",
       "  'Most Frequent 10': TCP Retransmission\n",
       "  2.156957e+07    55974\n",
       "  2.081121e+07      367\n",
       "  2.081124e+07      167\n",
       "  7.609887e+05      145\n",
       "  2.119039e+07       82\n",
       "  2.081123e+07       81\n",
       "  7.597507e+05       78\n",
       "  7.623187e+05       78\n",
       "  7.596967e+05       70\n",
       "  2.081257e+07       65\n",
       "  Name: count, dtype: int64},\n",
       " 'RTT': {'Top 10': 30037     1907.0\n",
       "  3722      1805.0\n",
       "  104281    1798.0\n",
       "  27068     1794.0\n",
       "  66299     1792.0\n",
       "  17353     1787.0\n",
       "  36159     1778.0\n",
       "  77980     1772.0\n",
       "  52499     1771.0\n",
       "  66561     1771.0\n",
       "  Name: RTT, dtype: float64,\n",
       "  'Bottom 10': 28878     0.0\n",
       "  44748     0.0\n",
       "  39066     2.0\n",
       "  83396     4.0\n",
       "  36039     5.0\n",
       "  69662     6.0\n",
       "  21980     8.0\n",
       "  3882      9.0\n",
       "  74434     9.0\n",
       "  17863    10.0\n",
       "  Name: RTT, dtype: float64,\n",
       "  'Most Frequent 10': RTT\n",
       "  127.458589    18515\n",
       "  29.000000      2950\n",
       "  39.000000      2367\n",
       "  38.000000      1639\n",
       "  40.000000      1583\n",
       "  30.000000      1577\n",
       "  28.000000      1456\n",
       "  49.000000      1308\n",
       "  41.000000      1207\n",
       "  31.000000      1190\n",
       "  Name: count, dtype: int64},\n",
       " 'Throughput': {'Top 10': 3293      120044.093729\n",
       "  69073     117102.909561\n",
       "  85146     115274.125241\n",
       "  8661      113665.780478\n",
       "  58937     112529.522195\n",
       "  9310      111616.689896\n",
       "  20227     111387.998901\n",
       "  53589     110822.562361\n",
       "  75014     108193.051596\n",
       "  106451    105725.420593\n",
       "  Name: Throughput, dtype: float64,\n",
       "  'Bottom 10': 71927      93.560778\n",
       "  67796      94.473518\n",
       "  100323    111.577411\n",
       "  59724     114.451615\n",
       "  62779     115.211793\n",
       "  1998      120.032127\n",
       "  87392     124.053135\n",
       "  59581     128.888356\n",
       "  91140     129.469283\n",
       "  30139     143.000993\n",
       "  Name: Throughput, dtype: float64,\n",
       "  'Most Frequent 10': Throughput\n",
       "  159.975405      1\n",
       "  7528.192032     1\n",
       "  865.528020      1\n",
       "  4415.580489     1\n",
       "  8467.073620     1\n",
       "  39277.832380    1\n",
       "  2430.157828     1\n",
       "  5100.678295     1\n",
       "  2409.409219     1\n",
       "  1993.058966     1\n",
       "  Name: count, dtype: int64}}"
      ]
     },
     "execution_count": 4,
     "metadata": {},
     "output_type": "execute_result"
    }
   ],
   "source": [
    "customer_agg = analyzer.aggregate_customer_experience(cleaned_data)\n",
    "top_bottom_10 = analyzer.compute_top_bottom_frequent(customer_agg)\n",
    "top_bottom_10"
   ]
  },
  {
   "cell_type": "markdown",
   "metadata": {},
   "source": [
    "## Clustering "
   ]
  },
  {
   "cell_type": "code",
   "execution_count": 5,
   "metadata": {},
   "outputs": [
    {
     "data": {
      "text/html": [
       "<div>\n",
       "<style scoped>\n",
       "    .dataframe tbody tr th:only-of-type {\n",
       "        vertical-align: middle;\n",
       "    }\n",
       "\n",
       "    .dataframe tbody tr th {\n",
       "        vertical-align: top;\n",
       "    }\n",
       "\n",
       "    .dataframe thead th {\n",
       "        text-align: right;\n",
       "    }\n",
       "</style>\n",
       "<table border=\"1\" class=\"dataframe\">\n",
       "  <thead>\n",
       "    <tr style=\"text-align: right;\">\n",
       "      <th></th>\n",
       "      <th>MSISDN/Number</th>\n",
       "      <th>TCP Retransmission</th>\n",
       "      <th>RTT</th>\n",
       "      <th>Throughput</th>\n",
       "      <th>Handset Type</th>\n",
       "      <th>Cluster</th>\n",
       "    </tr>\n",
       "  </thead>\n",
       "  <tbody>\n",
       "    <tr>\n",
       "      <th>0</th>\n",
       "      <td>3.360100e+10</td>\n",
       "      <td>2.156957e+07</td>\n",
       "      <td>46.000000</td>\n",
       "      <td>7528.192032</td>\n",
       "      <td>Huawei P20 Lite Huawei Nova 3E</td>\n",
       "      <td>1</td>\n",
       "    </tr>\n",
       "    <tr>\n",
       "      <th>1</th>\n",
       "      <td>3.360100e+10</td>\n",
       "      <td>2.156957e+07</td>\n",
       "      <td>31.000000</td>\n",
       "      <td>865.528020</td>\n",
       "      <td>Apple iPhone 7 (A1778)</td>\n",
       "      <td>1</td>\n",
       "    </tr>\n",
       "    <tr>\n",
       "      <th>2</th>\n",
       "      <td>3.360100e+10</td>\n",
       "      <td>2.156957e+07</td>\n",
       "      <td>127.458589</td>\n",
       "      <td>4415.580489</td>\n",
       "      <td>Huawei B528S-23A</td>\n",
       "      <td>1</td>\n",
       "    </tr>\n",
       "    <tr>\n",
       "      <th>3</th>\n",
       "      <td>3.360101e+10</td>\n",
       "      <td>7.607247e+05</td>\n",
       "      <td>84.000000</td>\n",
       "      <td>8467.073620</td>\n",
       "      <td>Apple iPhone 5S (A1457)</td>\n",
       "      <td>1</td>\n",
       "    </tr>\n",
       "    <tr>\n",
       "      <th>4</th>\n",
       "      <td>3.360101e+10</td>\n",
       "      <td>1.547020e+07</td>\n",
       "      <td>59.500000</td>\n",
       "      <td>39277.832380</td>\n",
       "      <td>Apple iPhone Se (A1723)</td>\n",
       "      <td>2</td>\n",
       "    </tr>\n",
       "  </tbody>\n",
       "</table>\n",
       "</div>"
      ],
      "text/plain": [
       "   MSISDN/Number  TCP Retransmission         RTT    Throughput  \\\n",
       "0   3.360100e+10        2.156957e+07   46.000000   7528.192032   \n",
       "1   3.360100e+10        2.156957e+07   31.000000    865.528020   \n",
       "2   3.360100e+10        2.156957e+07  127.458589   4415.580489   \n",
       "3   3.360101e+10        7.607247e+05   84.000000   8467.073620   \n",
       "4   3.360101e+10        1.547020e+07   59.500000  39277.832380   \n",
       "\n",
       "                     Handset Type  Cluster  \n",
       "0  Huawei P20 Lite Huawei Nova 3E        1  \n",
       "1          Apple iPhone 7 (A1778)        1  \n",
       "2                Huawei B528S-23A        1  \n",
       "3         Apple iPhone 5S (A1457)        1  \n",
       "4         Apple iPhone Se (A1723)        2  "
      ]
     },
     "execution_count": 5,
     "metadata": {},
     "output_type": "execute_result"
    }
   ],
   "source": [
    "clustered_data = analyzer.cluster_data(customer_agg)\n",
    "clustered_data.head()"
   ]
  },
  {
   "cell_type": "code",
   "execution_count": 6,
   "metadata": {},
   "outputs": [
    {
     "data": {
      "text/html": [
       "<div>\n",
       "<style scoped>\n",
       "    .dataframe tbody tr th:only-of-type {\n",
       "        vertical-align: middle;\n",
       "    }\n",
       "\n",
       "    .dataframe tbody tr th {\n",
       "        vertical-align: top;\n",
       "    }\n",
       "\n",
       "    .dataframe thead th {\n",
       "        text-align: right;\n",
       "    }\n",
       "</style>\n",
       "<table border=\"1\" class=\"dataframe\">\n",
       "  <thead>\n",
       "    <tr style=\"text-align: right;\">\n",
       "      <th></th>\n",
       "      <th>Cluster</th>\n",
       "      <th>Number of Users</th>\n",
       "      <th>Average TCP Retransmission</th>\n",
       "      <th>Average RTT</th>\n",
       "      <th>Average Throughput</th>\n",
       "      <th>Number of Handsets</th>\n",
       "    </tr>\n",
       "  </thead>\n",
       "  <tbody>\n",
       "    <tr>\n",
       "      <th>0</th>\n",
       "      <td>0</td>\n",
       "      <td>1878</td>\n",
       "      <td>8.237395e+06</td>\n",
       "      <td>883.790447</td>\n",
       "      <td>14886.304790</td>\n",
       "      <td>1878</td>\n",
       "    </tr>\n",
       "    <tr>\n",
       "      <th>1</th>\n",
       "      <td>1</td>\n",
       "      <td>94739</td>\n",
       "      <td>1.691153e+07</td>\n",
       "      <td>86.461203</td>\n",
       "      <td>5721.000719</td>\n",
       "      <td>94739</td>\n",
       "    </tr>\n",
       "    <tr>\n",
       "      <th>2</th>\n",
       "      <td>2</td>\n",
       "      <td>10239</td>\n",
       "      <td>8.512441e+06</td>\n",
       "      <td>95.914009</td>\n",
       "      <td>32389.645689</td>\n",
       "      <td>10239</td>\n",
       "    </tr>\n",
       "  </tbody>\n",
       "</table>\n",
       "</div>"
      ],
      "text/plain": [
       "   Cluster  Number of Users  Average TCP Retransmission  Average RTT  \\\n",
       "0        0             1878                8.237395e+06   883.790447   \n",
       "1        1            94739                1.691153e+07    86.461203   \n",
       "2        2            10239                8.512441e+06    95.914009   \n",
       "\n",
       "   Average Throughput  Number of Handsets  \n",
       "0        14886.304790                1878  \n",
       "1         5721.000719               94739  \n",
       "2        32389.645689               10239  "
      ]
     },
     "execution_count": 6,
     "metadata": {},
     "output_type": "execute_result"
    }
   ],
   "source": [
    "group_cluster_data = analyzer.group_cluster_data(customer_agg)\n",
    "group_cluster_data"
   ]
  }
 ],
 "metadata": {
  "kernelspec": {
   "display_name": ".venv",
   "language": "python",
   "name": "python3"
  },
  "language_info": {
   "codemirror_mode": {
    "name": "ipython",
    "version": 3
   },
   "file_extension": ".py",
   "mimetype": "text/x-python",
   "name": "python",
   "nbconvert_exporter": "python",
   "pygments_lexer": "ipython3",
   "version": "3.10.0"
  }
 },
 "nbformat": 4,
 "nbformat_minor": 2
}
